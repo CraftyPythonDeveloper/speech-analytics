{
 "cells": [
  {
   "cell_type": "code",
   "execution_count": 11,
   "id": "6391f10e",
   "metadata": {},
   "outputs": [],
   "source": [
    "import os\n",
    "import pandas as pd\n",
    "from stt_utils import WORKING_DIR, create_dir_if_not_exists, get_logger\n",
    "# importing the necessary modules:\n",
    "from wordcloud import STOPWORDS \n",
    "import json\n",
    "import re\n",
    "from collections import Counter"
   ]
  },
  {
   "cell_type": "code",
   "execution_count": 12,
   "id": "9f61d2f4",
   "metadata": {},
   "outputs": [],
   "source": [
    "unwanted_words_in_wordcloud = [\"will\", \"okay\"]\n",
    "\n",
    "for w in unwanted_words_in_wordcloud:\n",
    "    STOPWORDS.add(w)\n",
    "stopwords = set(STOPWORDS)\n",
    "\n",
    "WORDCLOUD_OUTPUT_DIR = os.path.join(WORKING_DIR, \"wordcloud\")   # the dir where script should save results\n",
    "create_dir_if_not_exists(WORDCLOUD_OUTPUT_DIR)  # calling this function will create dir if it does not exists\n",
    "TRANSCRIPTIONS_DIR = os.path.join(WORKING_DIR, \"transcriptions\")    # this is input dir, from where script find the json files\n",
    "all_transcripts = [file for file in os.listdir(TRANSCRIPTIONS_DIR) if file.endswith(\".json\")]  # get all json files \n"
   ]
  },
  {
   "cell_type": "code",
   "execution_count": 14,
   "id": "da52cb25",
   "metadata": {},
   "outputs": [
    {
     "name": "stdout",
     "output_type": "stream",
     "text": [
      "Creating wordcloud overview..\n",
      "Created wordcloud overview for and saved in wordcloud folder\n"
     ]
    }
   ],
   "source": [
    "def read_transcription(json_path):\n",
    "    with open(json_path, \"r\") as fp:\n",
    "        json_data = json.load(fp)\n",
    "    try:\n",
    "        text = json_data[\"text\"]\n",
    "    except KeyError:\n",
    "        print(f\"text not present in {json_file_name}, skipping this file..\")\n",
    "        text = \"\"\n",
    "    return text\n",
    "\n",
    "def count_words(all_text):\n",
    "    all_text = all_text.lower()\n",
    "    all_text = re.sub('[^A-Za-z ]+', '', all_text)\n",
    "    all_text = [word for word in all_text.split() if word not in stopwords]\n",
    "    df = pd.DataFrame()\n",
    "    df[\"word\"] = dict(Counter(all_text)).keys()\n",
    "    df[\"count\"] = dict(Counter(all_text)).values()\n",
    "    return df.sort_values(by=\"count\", ascending=False).reset_index(drop=True)\n",
    "\n",
    "\n",
    "# Generate Overview\n",
    "\n",
    "all_text = \"\"\n",
    "print(f\"Creating wordcloud overview..\")\n",
    "for json_file_name in all_transcripts:\n",
    "    json_filepath = os.path.join(TRANSCRIPTIONS_DIR, json_file_name)\n",
    "    all_text += read_transcription(json_filepath).strip()\n",
    "    \n",
    "df = count_words(all_text)\n",
    "df.to_csv(os.path.join(WORDCLOUD_OUTPUT_DIR, \"wordcloud_overview.csv\"))\n",
    "print(f\"Created wordcloud overview for and saved in wordcloud folder\")"
   ]
  },
  {
   "cell_type": "code",
   "execution_count": null,
   "id": "33926e17",
   "metadata": {},
   "outputs": [],
   "source": []
  },
  {
   "cell_type": "code",
   "execution_count": null,
   "id": "31155acf",
   "metadata": {},
   "outputs": [],
   "source": []
  }
 ],
 "metadata": {
  "kernelspec": {
   "display_name": "Python 3 (ipykernel)",
   "language": "python",
   "name": "python3"
  },
  "language_info": {
   "codemirror_mode": {
    "name": "ipython",
    "version": 3
   },
   "file_extension": ".py",
   "mimetype": "text/x-python",
   "name": "python",
   "nbconvert_exporter": "python",
   "pygments_lexer": "ipython3",
   "version": "3.9.13"
  }
 },
 "nbformat": 4,
 "nbformat_minor": 5
}
