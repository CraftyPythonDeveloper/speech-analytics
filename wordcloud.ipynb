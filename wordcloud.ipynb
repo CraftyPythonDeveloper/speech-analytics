{
 "cells": [
  {
   "cell_type": "code",
   "execution_count": 25,
   "id": "6fbe7e6d",
   "metadata": {},
   "outputs": [],
   "source": [
    "import os\n",
    "from pandas import read_csv\n",
    "from stt_utils import WORKING_DIR, create_dir_if_not_exists, get_logger\n",
    "# importing the necessary modules:\n",
    "from wordcloud import WordCloud, STOPWORDS \n",
    "import matplotlib.pyplot as plt\n",
    "import json\n",
    "import sys"
   ]
  },
  {
   "cell_type": "code",
   "execution_count": 26,
   "id": "4daf4fb2",
   "metadata": {},
   "outputs": [],
   "source": [
    "unwanted_words_in_wordcloud = [\"will\", \"Okay\"]\n",
    "\n",
    "for w in unwanted_words_in_wordcloud:\n",
    "    STOPWORDS.add(w)\n",
    "stopwords = set(STOPWORDS)"
   ]
  },
  {
   "cell_type": "code",
   "execution_count": 29,
   "id": "e6107a36",
   "metadata": {},
   "outputs": [
    {
     "name": "stdout",
     "output_type": "stream",
     "text": [
      "Found 1 transcripts to process..\n",
      "Creating wordcloud for InboundSampleRecording.json\n",
      "Done creating wordcloud for InboundSampleRecording.json and saved in wordcloud folder..\n"
     ]
    }
   ],
   "source": [
    "FONT_PATH = os.path.join(WORKING_DIR, \"bin\", \"RobotoCondensed-Regular.ttf\")\n",
    "WORDCLOUD_OUTPUT_DIR = os.path.join(WORKING_DIR, \"wordcloud\")   # the dir where script should save results\n",
    "create_dir_if_not_exists(WORDCLOUD_OUTPUT_DIR)  # calling this function will create dir if it does not exists\n",
    "TRANSCRIPTIONS_DIR = os.path.join(WORKING_DIR, \"transcriptions\")    # this is input dir, from where script find the json files\n",
    "all_transcripts = [file for file in os.listdir(TRANSCRIPTIONS_DIR) if file.endswith(\".json\")]  # get all json files \n",
    "\n",
    "# condition to check if we have atleast 1 json file to process..\n",
    "assert all_transcripts, f\"No Json files present in transcription folder, Please add the json file and try again...\"\n",
    "print(f\"Found {len(all_transcripts)} transcripts to process..\")   # print number of json files we have\n",
    "\n",
    "# initialise the wordcloud\n",
    "ws = WordCloud(stopwords=stopwords, font_path=FONT_PATH, width=800, height=500)\n",
    "for json_file_name in all_transcripts:\n",
    "    print(f\"Creating wordcloud for {json_file_name}\")\n",
    "    json_filepath = os.path.join(TRANSCRIPTIONS_DIR, json_file_name)\n",
    "    with open(json_filepath, \"r\") as fp:\n",
    "        json_data = json.load(fp)\n",
    "    try:\n",
    "        text = json_data[\"text\"]\n",
    "    except KeyError:\n",
    "        print(f\"text not present in {json_file_name}, skipping this file..\")\n",
    "        continue\n",
    "    wordcloud = ws.generate(text.strip())\n",
    "    trans_name, trans_ext = json_file_name.rsplit(os.extsep, 1)\n",
    "    output_filepath = os.path.join(WORDCLOUD_OUTPUT_DIR, f\"{trans_name}.png\")\n",
    "    wordcloud.to_file(output_filepath)\n",
    "    print(f\"Done creating wordcloud for {json_file_name} and saved in wordcloud folder..\")"
   ]
  },
  {
   "cell_type": "code",
   "execution_count": null,
   "id": "7586fbae",
   "metadata": {},
   "outputs": [],
   "source": []
  }
 ],
 "metadata": {
  "kernelspec": {
   "display_name": "Python 3 (ipykernel)",
   "language": "python",
   "name": "python3"
  },
  "language_info": {
   "codemirror_mode": {
    "name": "ipython",
    "version": 3
   },
   "file_extension": ".py",
   "mimetype": "text/x-python",
   "name": "python",
   "nbconvert_exporter": "python",
   "pygments_lexer": "ipython3",
   "version": "3.11.3"
  }
 },
 "nbformat": 4,
 "nbformat_minor": 5
}
