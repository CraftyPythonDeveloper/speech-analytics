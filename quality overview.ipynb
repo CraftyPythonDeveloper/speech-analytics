{
 "cells": [
  {
   "cell_type": "code",
   "execution_count": 1,
   "id": "5788899c",
   "metadata": {},
   "outputs": [],
   "source": [
    "import pandas as pd\n",
    "import os\n",
    "import sys"
   ]
  },
  {
   "cell_type": "code",
   "execution_count": 2,
   "id": "dbad3966",
   "metadata": {},
   "outputs": [],
   "source": [
    "QUALITY_POSITIVE_MIN_SCORE = 80\n",
    "QUALITY_NEGATIVE_MIN_SCORE = 50\n",
    "SENTIMENT_POSITIVE_MIN_SCORE = 70\n",
    "SENTIMENT_NEGATIVE_MIN_SCORE = 30\n",
    "SPEAKER_1_NAME = \"SPEAKER 1\"\n",
    "SPEAKER_2_NAME = \"SPEAKER 2\"\n",
    "\n",
    "cwd = os.path.join(os.getcwd(), \"working_dir\")\n",
    "sentiments_path = os.path.join(cwd, \"sentiments\")\n",
    "scorecard_path = os.path.join(cwd, \"scorecards\")\n",
    "OVERVIEW_DIR = os.path.join(cwd, \"overview\")\n",
    "\n",
    "if not os.path.exists(OVERVIEW_DIR):\n",
    "    os.mkdir(OVERVIEW_DIR)"
   ]
  },
  {
   "cell_type": "code",
   "execution_count": 4,
   "id": "6f16ee9a",
   "metadata": {},
   "outputs": [
    {
     "name": "stdout",
     "output_type": "stream",
     "text": [
      "Processing InboundSampleRecording..\n",
      "Processing OUTBOUNDSAMPLE_01..\n",
      "Processing OUTBOUNDSAMPLE_02..\n",
      "Saved overview in overview folder..\n"
     ]
    }
   ],
   "source": [
    "def sentiment_score(sentiment_df):\n",
    "    \"\"\"\n",
    "    pass like this sentiment_df[sentiment_df[\"Speaker\"]==\"SPEAKER 1\"]\n",
    "    \"\"\"\n",
    "    pos_neg_count = sentiment_df.groupby(\"sentiment\").Speaker.count()\n",
    "    return round((pos_neg_count.POSITIVE/(pos_neg_count.POSITIVE+pos_neg_count.NEGATIVE))*100, 2)\n",
    "\n",
    "def get_overall_sentiment(score, positive_thres=70, negative_thres=30):\n",
    "    return \"POSITIVE\" if score > positive_thres else (\"NEGATIVE\" if score < negative_thres else \"NEUTRAL\")\n",
    "\n",
    "def get_overview(score_df, sentiment_df):\n",
    "    global filename\n",
    "    score_df.loc[\"Total Score\", \"sub_parameter\"] = \"Total Score\"\n",
    "    score_df = score_df[[\"sub_parameter\", \"score\"]].set_index(\"sub_parameter\").transpose()\n",
    "    score_df[\"quality_feedback\"] = get_overall_sentiment(score_df[\"Total Score\"][0], QUALITY_POSITIVE_MIN_SCORE, QUALITY_NEGATIVE_MIN_SCORE)\n",
    "    score_df.insert(0, \"filename\",  filename)\n",
    "    score_df[\"call_duration\"] = sentiment_df.End.iloc[-1]\n",
    "    score_df[f\"{SPEAKER_1_NAME} Sentiment Score %\"] = sentiment_score(sentiment_df[sentiment_df[\"Speaker\"]==SPEAKER_1_NAME])\n",
    "    score_df[f\"{SPEAKER_1_NAME} Sentiment\"] = get_overall_sentiment(score_df[f\"{SPEAKER_1_NAME} Sentiment Score %\"][0], SENTIMENT_POSITIVE_MIN_SCORE, SENTIMENT_NEGATIVE_MIN_SCORE)\n",
    "    score_df[f\"{SPEAKER_2_NAME} Sentiment Score %\"] = sentiment_score(sentiment_df[sentiment_df[\"Speaker\"]==SPEAKER_2_NAME])\n",
    "    score_df[f\"{SPEAKER_2_NAME} Sentiment\"] = get_overall_sentiment(score_df[f\"{SPEAKER_2_NAME} Sentiment Score %\"][0], SENTIMENT_POSITIVE_MIN_SCORE, SENTIMENT_NEGATIVE_MIN_SCORE)\n",
    "    score_df[\"OVERALL Sentiment Score %\"] = sentiment_score(sentiment_df)\n",
    "    score_df[\"OVERALL Sentiment\"] = get_overall_sentiment(score_df[\"OVERALL Sentiment Score %\"][0],SENTIMENT_POSITIVE_MIN_SCORE, SENTIMENT_NEGATIVE_MIN_SCORE)\n",
    "    return score_df\n",
    "\n",
    "\n",
    "df = pd.DataFrame()\n",
    "sentiment_files = [i.rsplit(os.extsep, 1)[0] for i in os.listdir(sentiments_path)]\n",
    "dfs = []\n",
    "if not sentiment_files:\n",
    "    print(f\"No csv files found in sentiments folder..\")\n",
    "    sys.exit()\n",
    "for scorecard_file in os.listdir(scorecard_path):\n",
    "    filename, ext = scorecard_file.rsplit(os.extsep, 1)\n",
    "    print(f\"Processing {filename}..\")\n",
    "    if not filename in sentiment_files:\n",
    "        print(f\"{filename} not found in sentiments folder, please run the sentiment_analysis script first..\")\n",
    "        continue\n",
    "    score_df = pd.read_csv(os.path.join(scorecard_path, filename+\".csv\"), index_col=1)\n",
    "    sentiment_df = pd.read_csv(os.path.join(sentiments_path, filename+\".csv\"), index_col=0)\n",
    "    try:\n",
    "        dfs.append(get_overview(score_df, sentiment_df))\n",
    "    except Exception as e:\n",
    "        print(e)\n",
    "        continue\n",
    "pd.concat(dfs).reset_index(drop=True).to_csv(os.path.join(OVERVIEW_DIR, \"scorecard_overview.csv\"))\n",
    "print(f\"Saved overview in overview folder..\")"
   ]
  },
  {
   "cell_type": "code",
   "execution_count": null,
   "id": "8ef09125",
   "metadata": {},
   "outputs": [],
   "source": []
  }
 ],
 "metadata": {
  "kernelspec": {
   "display_name": "Python 3 (ipykernel)",
   "language": "python",
   "name": "python3"
  },
  "language_info": {
   "codemirror_mode": {
    "name": "ipython",
    "version": 3
   },
   "file_extension": ".py",
   "mimetype": "text/x-python",
   "name": "python",
   "nbconvert_exporter": "python",
   "pygments_lexer": "ipython3",
   "version": "3.9.13"
  }
 },
 "nbformat": 4,
 "nbformat_minor": 5
}
